{
  "nbformat": 4,
  "nbformat_minor": 0,
  "metadata": {
    "colab": {
      "provenance": [],
      "gpuType": "T4"
    },
    "kernelspec": {
      "name": "python3",
      "display_name": "Python 3"
    },
    "language_info": {
      "name": "python"
    },
    "accelerator": "GPU"
  },
  "cells": [
    {
      "cell_type": "code",
      "execution_count": 36,
      "metadata": {
        "id": "Zy5rKvEsE2Lw"
      },
      "outputs": [],
      "source": [
        "import pandas as pd\n",
        "import zipfile\n",
        "import os\n",
        "import numpy as np\n",
        "import matplotlib.pyplot as plt\n",
        "import seaborn as sns\n",
        "import tensorflow as tf\n",
        "from tensorflow.keras.models import Sequential\n",
        "from tensorflow.keras.layers import Dense\n",
        "from sklearn.model_selection import train_test_split\n",
        "from sklearn.linear_model import LinearRegression\n",
        "from sklearn.metrics import mean_squared_error, r2_score"
      ]
    },
    {
      "cell_type": "code",
      "source": [
        "from google.colab import files\n",
        "upload = files.upload()\n",
        "data = pd.read_csv(\"Admission_Predict_Ver1.1.csv\")"
      ],
      "metadata": {
        "colab": {
          "base_uri": "https://localhost:8080/",
          "height": 73
        },
        "id": "Osg5rsJKqsV-",
        "outputId": "186c0e74-8921-41a1-bf7f-84762517abe9"
      },
      "execution_count": 14,
      "outputs": [
        {
          "output_type": "display_data",
          "data": {
            "text/plain": [
              "<IPython.core.display.HTML object>"
            ],
            "text/html": [
              "\n",
              "     <input type=\"file\" id=\"files-780fa5bb-f35a-4c58-b0ee-557be3536a68\" name=\"files[]\" multiple disabled\n",
              "        style=\"border:none\" />\n",
              "     <output id=\"result-780fa5bb-f35a-4c58-b0ee-557be3536a68\">\n",
              "      Upload widget is only available when the cell has been executed in the\n",
              "      current browser session. Please rerun this cell to enable.\n",
              "      </output>\n",
              "      <script>// Copyright 2017 Google LLC\n",
              "//\n",
              "// Licensed under the Apache License, Version 2.0 (the \"License\");\n",
              "// you may not use this file except in compliance with the License.\n",
              "// You may obtain a copy of the License at\n",
              "//\n",
              "//      http://www.apache.org/licenses/LICENSE-2.0\n",
              "//\n",
              "// Unless required by applicable law or agreed to in writing, software\n",
              "// distributed under the License is distributed on an \"AS IS\" BASIS,\n",
              "// WITHOUT WARRANTIES OR CONDITIONS OF ANY KIND, either express or implied.\n",
              "// See the License for the specific language governing permissions and\n",
              "// limitations under the License.\n",
              "\n",
              "/**\n",
              " * @fileoverview Helpers for google.colab Python module.\n",
              " */\n",
              "(function(scope) {\n",
              "function span(text, styleAttributes = {}) {\n",
              "  const element = document.createElement('span');\n",
              "  element.textContent = text;\n",
              "  for (const key of Object.keys(styleAttributes)) {\n",
              "    element.style[key] = styleAttributes[key];\n",
              "  }\n",
              "  return element;\n",
              "}\n",
              "\n",
              "// Max number of bytes which will be uploaded at a time.\n",
              "const MAX_PAYLOAD_SIZE = 100 * 1024;\n",
              "\n",
              "function _uploadFiles(inputId, outputId) {\n",
              "  const steps = uploadFilesStep(inputId, outputId);\n",
              "  const outputElement = document.getElementById(outputId);\n",
              "  // Cache steps on the outputElement to make it available for the next call\n",
              "  // to uploadFilesContinue from Python.\n",
              "  outputElement.steps = steps;\n",
              "\n",
              "  return _uploadFilesContinue(outputId);\n",
              "}\n",
              "\n",
              "// This is roughly an async generator (not supported in the browser yet),\n",
              "// where there are multiple asynchronous steps and the Python side is going\n",
              "// to poll for completion of each step.\n",
              "// This uses a Promise to block the python side on completion of each step,\n",
              "// then passes the result of the previous step as the input to the next step.\n",
              "function _uploadFilesContinue(outputId) {\n",
              "  const outputElement = document.getElementById(outputId);\n",
              "  const steps = outputElement.steps;\n",
              "\n",
              "  const next = steps.next(outputElement.lastPromiseValue);\n",
              "  return Promise.resolve(next.value.promise).then((value) => {\n",
              "    // Cache the last promise value to make it available to the next\n",
              "    // step of the generator.\n",
              "    outputElement.lastPromiseValue = value;\n",
              "    return next.value.response;\n",
              "  });\n",
              "}\n",
              "\n",
              "/**\n",
              " * Generator function which is called between each async step of the upload\n",
              " * process.\n",
              " * @param {string} inputId Element ID of the input file picker element.\n",
              " * @param {string} outputId Element ID of the output display.\n",
              " * @return {!Iterable<!Object>} Iterable of next steps.\n",
              " */\n",
              "function* uploadFilesStep(inputId, outputId) {\n",
              "  const inputElement = document.getElementById(inputId);\n",
              "  inputElement.disabled = false;\n",
              "\n",
              "  const outputElement = document.getElementById(outputId);\n",
              "  outputElement.innerHTML = '';\n",
              "\n",
              "  const pickedPromise = new Promise((resolve) => {\n",
              "    inputElement.addEventListener('change', (e) => {\n",
              "      resolve(e.target.files);\n",
              "    });\n",
              "  });\n",
              "\n",
              "  const cancel = document.createElement('button');\n",
              "  inputElement.parentElement.appendChild(cancel);\n",
              "  cancel.textContent = 'Cancel upload';\n",
              "  const cancelPromise = new Promise((resolve) => {\n",
              "    cancel.onclick = () => {\n",
              "      resolve(null);\n",
              "    };\n",
              "  });\n",
              "\n",
              "  // Wait for the user to pick the files.\n",
              "  const files = yield {\n",
              "    promise: Promise.race([pickedPromise, cancelPromise]),\n",
              "    response: {\n",
              "      action: 'starting',\n",
              "    }\n",
              "  };\n",
              "\n",
              "  cancel.remove();\n",
              "\n",
              "  // Disable the input element since further picks are not allowed.\n",
              "  inputElement.disabled = true;\n",
              "\n",
              "  if (!files) {\n",
              "    return {\n",
              "      response: {\n",
              "        action: 'complete',\n",
              "      }\n",
              "    };\n",
              "  }\n",
              "\n",
              "  for (const file of files) {\n",
              "    const li = document.createElement('li');\n",
              "    li.append(span(file.name, {fontWeight: 'bold'}));\n",
              "    li.append(span(\n",
              "        `(${file.type || 'n/a'}) - ${file.size} bytes, ` +\n",
              "        `last modified: ${\n",
              "            file.lastModifiedDate ? file.lastModifiedDate.toLocaleDateString() :\n",
              "                                    'n/a'} - `));\n",
              "    const percent = span('0% done');\n",
              "    li.appendChild(percent);\n",
              "\n",
              "    outputElement.appendChild(li);\n",
              "\n",
              "    const fileDataPromise = new Promise((resolve) => {\n",
              "      const reader = new FileReader();\n",
              "      reader.onload = (e) => {\n",
              "        resolve(e.target.result);\n",
              "      };\n",
              "      reader.readAsArrayBuffer(file);\n",
              "    });\n",
              "    // Wait for the data to be ready.\n",
              "    let fileData = yield {\n",
              "      promise: fileDataPromise,\n",
              "      response: {\n",
              "        action: 'continue',\n",
              "      }\n",
              "    };\n",
              "\n",
              "    // Use a chunked sending to avoid message size limits. See b/62115660.\n",
              "    let position = 0;\n",
              "    do {\n",
              "      const length = Math.min(fileData.byteLength - position, MAX_PAYLOAD_SIZE);\n",
              "      const chunk = new Uint8Array(fileData, position, length);\n",
              "      position += length;\n",
              "\n",
              "      const base64 = btoa(String.fromCharCode.apply(null, chunk));\n",
              "      yield {\n",
              "        response: {\n",
              "          action: 'append',\n",
              "          file: file.name,\n",
              "          data: base64,\n",
              "        },\n",
              "      };\n",
              "\n",
              "      let percentDone = fileData.byteLength === 0 ?\n",
              "          100 :\n",
              "          Math.round((position / fileData.byteLength) * 100);\n",
              "      percent.textContent = `${percentDone}% done`;\n",
              "\n",
              "    } while (position < fileData.byteLength);\n",
              "  }\n",
              "\n",
              "  // All done.\n",
              "  yield {\n",
              "    response: {\n",
              "      action: 'complete',\n",
              "    }\n",
              "  };\n",
              "}\n",
              "\n",
              "scope.google = scope.google || {};\n",
              "scope.google.colab = scope.google.colab || {};\n",
              "scope.google.colab._files = {\n",
              "  _uploadFiles,\n",
              "  _uploadFilesContinue,\n",
              "};\n",
              "})(self);\n",
              "</script> "
            ]
          },
          "metadata": {}
        },
        {
          "output_type": "stream",
          "name": "stdout",
          "text": [
            "Saving Admission_Predict_Ver1.1.csv to Admission_Predict_Ver1.1 (4).csv\n"
          ]
        }
      ]
    },
    {
      "cell_type": "code",
      "source": [
        "print(\"First few rows of the dataset:\")\n",
        "print(data.info())"
      ],
      "metadata": {
        "colab": {
          "base_uri": "https://localhost:8080/"
        },
        "id": "gIqz2AUaGJJk",
        "outputId": "5f99edfc-4c8a-458e-cbe5-59d546f3bf69"
      },
      "execution_count": 15,
      "outputs": [
        {
          "output_type": "stream",
          "name": "stdout",
          "text": [
            "First few rows of the dataset:\n",
            "<class 'pandas.core.frame.DataFrame'>\n",
            "RangeIndex: 500 entries, 0 to 499\n",
            "Data columns (total 9 columns):\n",
            " #   Column             Non-Null Count  Dtype  \n",
            "---  ------             --------------  -----  \n",
            " 0   Serial No.         500 non-null    int64  \n",
            " 1   GRE Score          500 non-null    int64  \n",
            " 2   TOEFL Score        500 non-null    int64  \n",
            " 3   University Rating  500 non-null    int64  \n",
            " 4   SOP                500 non-null    float64\n",
            " 5   LOR                500 non-null    float64\n",
            " 6   CGPA               500 non-null    float64\n",
            " 7   Research           500 non-null    int64  \n",
            " 8   Chance of Admit    500 non-null    float64\n",
            "dtypes: float64(4), int64(5)\n",
            "memory usage: 35.3 KB\n",
            "None\n"
          ]
        }
      ]
    },
    {
      "cell_type": "code",
      "source": [
        "print(data.head())"
      ],
      "metadata": {
        "colab": {
          "base_uri": "https://localhost:8080/"
        },
        "id": "wpJycU5LFIND",
        "outputId": "4731d0c3-b805-4376-cc89-72e250463eae"
      },
      "execution_count": 16,
      "outputs": [
        {
          "output_type": "stream",
          "name": "stdout",
          "text": [
            "   Serial No.  GRE Score  TOEFL Score  University Rating  SOP  LOR   CGPA  \\\n",
            "0           1        337          118                  4  4.5   4.5  9.65   \n",
            "1           2        324          107                  4  4.0   4.5  8.87   \n",
            "2           3        316          104                  3  3.0   3.5  8.00   \n",
            "3           4        322          110                  3  3.5   2.5  8.67   \n",
            "4           5        314          103                  2  2.0   3.0  8.21   \n",
            "\n",
            "   Research  Chance of Admit   \n",
            "0         1              0.92  \n",
            "1         1              0.76  \n",
            "2         1              0.72  \n",
            "3         1              0.80  \n",
            "4         0              0.65  \n"
          ]
        }
      ]
    },
    {
      "cell_type": "code",
      "source": [
        "print(\"\\nDataset Information:\")\n",
        "print(data.info())"
      ],
      "metadata": {
        "colab": {
          "base_uri": "https://localhost:8080/"
        },
        "id": "ZI33dKdmtn91",
        "outputId": "41733992-7da2-4a8b-a0f6-109c19af2ea4"
      },
      "execution_count": 17,
      "outputs": [
        {
          "output_type": "stream",
          "name": "stdout",
          "text": [
            "\n",
            "Dataset Information:\n",
            "<class 'pandas.core.frame.DataFrame'>\n",
            "RangeIndex: 500 entries, 0 to 499\n",
            "Data columns (total 9 columns):\n",
            " #   Column             Non-Null Count  Dtype  \n",
            "---  ------             --------------  -----  \n",
            " 0   Serial No.         500 non-null    int64  \n",
            " 1   GRE Score          500 non-null    int64  \n",
            " 2   TOEFL Score        500 non-null    int64  \n",
            " 3   University Rating  500 non-null    int64  \n",
            " 4   SOP                500 non-null    float64\n",
            " 5   LOR                500 non-null    float64\n",
            " 6   CGPA               500 non-null    float64\n",
            " 7   Research           500 non-null    int64  \n",
            " 8   Chance of Admit    500 non-null    float64\n",
            "dtypes: float64(4), int64(5)\n",
            "memory usage: 35.3 KB\n",
            "None\n"
          ]
        }
      ]
    },
    {
      "cell_type": "code",
      "source": [
        "print(\"\\nSummary Statistics:\")\n",
        "print(data.describe())"
      ],
      "metadata": {
        "colab": {
          "base_uri": "https://localhost:8080/"
        },
        "id": "okGvJC9ut0Xv",
        "outputId": "9608c743-4dc7-44ae-de99-2881907b8c81"
      },
      "execution_count": 18,
      "outputs": [
        {
          "output_type": "stream",
          "name": "stdout",
          "text": [
            "\n",
            "Summary Statistics:\n",
            "       Serial No.   GRE Score  TOEFL Score  University Rating         SOP  \\\n",
            "count  500.000000  500.000000   500.000000         500.000000  500.000000   \n",
            "mean   250.500000  316.472000   107.192000           3.114000    3.374000   \n",
            "std    144.481833   11.295148     6.081868           1.143512    0.991004   \n",
            "min      1.000000  290.000000    92.000000           1.000000    1.000000   \n",
            "25%    125.750000  308.000000   103.000000           2.000000    2.500000   \n",
            "50%    250.500000  317.000000   107.000000           3.000000    3.500000   \n",
            "75%    375.250000  325.000000   112.000000           4.000000    4.000000   \n",
            "max    500.000000  340.000000   120.000000           5.000000    5.000000   \n",
            "\n",
            "            LOR         CGPA    Research  Chance of Admit   \n",
            "count  500.00000  500.000000  500.000000         500.00000  \n",
            "mean     3.48400    8.576440    0.560000           0.72174  \n",
            "std      0.92545    0.604813    0.496884           0.14114  \n",
            "min      1.00000    6.800000    0.000000           0.34000  \n",
            "25%      3.00000    8.127500    0.000000           0.63000  \n",
            "50%      3.50000    8.560000    1.000000           0.72000  \n",
            "75%      4.00000    9.040000    1.000000           0.82000  \n",
            "max      5.00000    9.920000    1.000000           0.97000  \n"
          ]
        }
      ]
    },
    {
      "cell_type": "code",
      "source": [
        "X = data.drop([\"Chance of Admit \", \"Serial No.\"], axis=1)\n",
        "y = data[\"Chance of Admit \"]"
      ],
      "metadata": {
        "id": "DJGbcAQkvf1W"
      },
      "execution_count": 27,
      "outputs": []
    },
    {
      "cell_type": "code",
      "source": [
        "X_train, X_test, y_train, y_test = train_test_split(X, y, test_size=0.2, random_state=42)"
      ],
      "metadata": {
        "id": "WqK-qJa3vzEx"
      },
      "execution_count": 28,
      "outputs": []
    },
    {
      "cell_type": "code",
      "source": [
        "model = Sequential([\n",
        "    Dense(64, activation='relu', input_shape=(X_train.shape[1],)),\n",
        "    Dense(64, activation='relu'),\n",
        "    Dense(1)\n",
        "])"
      ],
      "metadata": {
        "colab": {
          "base_uri": "https://localhost:8080/"
        },
        "id": "bWys4QhywnNI",
        "outputId": "6cb1882b-e779-4ff7-86f0-ea4688d8d1ce"
      },
      "execution_count": 37,
      "outputs": [
        {
          "output_type": "stream",
          "name": "stderr",
          "text": [
            "/usr/local/lib/python3.10/dist-packages/keras/src/layers/core/dense.py:87: UserWarning: Do not pass an `input_shape`/`input_dim` argument to a layer. When using Sequential models, prefer using an `Input(shape)` object as the first layer in the model instead.\n",
            "  super().__init__(activity_regularizer=activity_regularizer, **kwargs)\n"
          ]
        }
      ]
    },
    {
      "cell_type": "code",
      "source": [
        "model.compile(optimizer='adam', loss='mse', metrics=['mae'])"
      ],
      "metadata": {
        "id": "PDhSqkowweE-"
      },
      "execution_count": 38,
      "outputs": []
    },
    {
      "cell_type": "code",
      "source": [
        "history = model.fit(X_train, y_train, epochs=50, validation_split=0.2, verbose=2)"
      ],
      "metadata": {
        "colab": {
          "base_uri": "https://localhost:8080/"
        },
        "id": "R86sI4aow82r",
        "outputId": "ec236b03-46a7-43b0-da2e-2bba007ea1d6"
      },
      "execution_count": 40,
      "outputs": [
        {
          "output_type": "stream",
          "name": "stdout",
          "text": [
            "Epoch 1/50\n",
            "10/10 - 0s - 11ms/step - loss: 0.0543 - mae: 0.1887 - val_loss: 0.0550 - val_mae: 0.2020\n",
            "Epoch 2/50\n",
            "10/10 - 0s - 10ms/step - loss: 0.0592 - mae: 0.1952 - val_loss: 0.0522 - val_mae: 0.1726\n",
            "Epoch 3/50\n",
            "10/10 - 0s - 12ms/step - loss: 0.0565 - mae: 0.1926 - val_loss: 0.0461 - val_mae: 0.1713\n",
            "Epoch 4/50\n",
            "10/10 - 0s - 7ms/step - loss: 0.0543 - mae: 0.1892 - val_loss: 0.0522 - val_mae: 0.1982\n",
            "Epoch 5/50\n",
            "10/10 - 0s - 12ms/step - loss: 0.0589 - mae: 0.1960 - val_loss: 0.0559 - val_mae: 0.1745\n",
            "Epoch 6/50\n",
            "10/10 - 0s - 7ms/step - loss: 0.0463 - mae: 0.1720 - val_loss: 0.0417 - val_mae: 0.1632\n",
            "Epoch 7/50\n",
            "10/10 - 0s - 7ms/step - loss: 0.0435 - mae: 0.1703 - val_loss: 0.0497 - val_mae: 0.1641\n",
            "Epoch 8/50\n",
            "10/10 - 0s - 5ms/step - loss: 0.0489 - mae: 0.1805 - val_loss: 0.0391 - val_mae: 0.1566\n",
            "Epoch 9/50\n",
            "10/10 - 0s - 5ms/step - loss: 0.0495 - mae: 0.1766 - val_loss: 0.0398 - val_mae: 0.1689\n",
            "Epoch 10/50\n",
            "10/10 - 0s - 6ms/step - loss: 0.0425 - mae: 0.1659 - val_loss: 0.0406 - val_mae: 0.1516\n",
            "Epoch 11/50\n",
            "10/10 - 0s - 7ms/step - loss: 0.0418 - mae: 0.1637 - val_loss: 0.0355 - val_mae: 0.1533\n",
            "Epoch 12/50\n",
            "10/10 - 0s - 13ms/step - loss: 0.0415 - mae: 0.1671 - val_loss: 0.0375 - val_mae: 0.1463\n",
            "Epoch 13/50\n",
            "10/10 - 0s - 12ms/step - loss: 0.0399 - mae: 0.1626 - val_loss: 0.0340 - val_mae: 0.1426\n",
            "Epoch 14/50\n",
            "10/10 - 0s - 6ms/step - loss: 0.0345 - mae: 0.1501 - val_loss: 0.0350 - val_mae: 0.1415\n",
            "Epoch 15/50\n",
            "10/10 - 0s - 5ms/step - loss: 0.0391 - mae: 0.1592 - val_loss: 0.0465 - val_mae: 0.1884\n",
            "Epoch 16/50\n",
            "10/10 - 0s - 5ms/step - loss: 0.0407 - mae: 0.1644 - val_loss: 0.0339 - val_mae: 0.1379\n",
            "Epoch 17/50\n",
            "10/10 - 0s - 5ms/step - loss: 0.0331 - mae: 0.1452 - val_loss: 0.0376 - val_mae: 0.1694\n",
            "Epoch 18/50\n",
            "10/10 - 0s - 8ms/step - loss: 0.0349 - mae: 0.1512 - val_loss: 0.0675 - val_mae: 0.2065\n",
            "Epoch 19/50\n",
            "10/10 - 0s - 5ms/step - loss: 0.0421 - mae: 0.1693 - val_loss: 0.0324 - val_mae: 0.1567\n",
            "Epoch 20/50\n",
            "10/10 - 0s - 6ms/step - loss: 0.0312 - mae: 0.1437 - val_loss: 0.0330 - val_mae: 0.1330\n",
            "Epoch 21/50\n",
            "10/10 - 0s - 14ms/step - loss: 0.0306 - mae: 0.1414 - val_loss: 0.0281 - val_mae: 0.1266\n",
            "Epoch 22/50\n",
            "10/10 - 0s - 12ms/step - loss: 0.0307 - mae: 0.1412 - val_loss: 0.0286 - val_mae: 0.1257\n",
            "Epoch 23/50\n",
            "10/10 - 0s - 6ms/step - loss: 0.0338 - mae: 0.1471 - val_loss: 0.0254 - val_mae: 0.1218\n",
            "Epoch 24/50\n",
            "10/10 - 0s - 6ms/step - loss: 0.0345 - mae: 0.1464 - val_loss: 0.0235 - val_mae: 0.1206\n",
            "Epoch 25/50\n",
            "10/10 - 0s - 13ms/step - loss: 0.0270 - mae: 0.1336 - val_loss: 0.0228 - val_mae: 0.1220\n",
            "Epoch 26/50\n",
            "10/10 - 0s - 5ms/step - loss: 0.0252 - mae: 0.1286 - val_loss: 0.0223 - val_mae: 0.1216\n",
            "Epoch 27/50\n",
            "10/10 - 0s - 7ms/step - loss: 0.0274 - mae: 0.1345 - val_loss: 0.0234 - val_mae: 0.1152\n",
            "Epoch 28/50\n",
            "10/10 - 0s - 5ms/step - loss: 0.0249 - mae: 0.1276 - val_loss: 0.0213 - val_mae: 0.1199\n",
            "Epoch 29/50\n",
            "10/10 - 0s - 7ms/step - loss: 0.0234 - mae: 0.1229 - val_loss: 0.0363 - val_mae: 0.1432\n",
            "Epoch 30/50\n",
            "10/10 - 0s - 6ms/step - loss: 0.0241 - mae: 0.1250 - val_loss: 0.0235 - val_mae: 0.1326\n",
            "Epoch 31/50\n",
            "10/10 - 0s - 5ms/step - loss: 0.0229 - mae: 0.1213 - val_loss: 0.0195 - val_mae: 0.1144\n",
            "Epoch 32/50\n",
            "10/10 - 0s - 6ms/step - loss: 0.0213 - mae: 0.1165 - val_loss: 0.0208 - val_mae: 0.1075\n",
            "Epoch 33/50\n",
            "10/10 - 0s - 5ms/step - loss: 0.0219 - mae: 0.1196 - val_loss: 0.0221 - val_mae: 0.1286\n",
            "Epoch 34/50\n",
            "10/10 - 0s - 7ms/step - loss: 0.0248 - mae: 0.1281 - val_loss: 0.0189 - val_mae: 0.1039\n",
            "Epoch 35/50\n",
            "10/10 - 0s - 14ms/step - loss: 0.0223 - mae: 0.1208 - val_loss: 0.0212 - val_mae: 0.1062\n",
            "Epoch 36/50\n",
            "10/10 - 0s - 15ms/step - loss: 0.0202 - mae: 0.1145 - val_loss: 0.0170 - val_mae: 0.1016\n",
            "Epoch 37/50\n",
            "10/10 - 0s - 6ms/step - loss: 0.0212 - mae: 0.1159 - val_loss: 0.0167 - val_mae: 0.1051\n",
            "Epoch 38/50\n",
            "10/10 - 0s - 7ms/step - loss: 0.0194 - mae: 0.1115 - val_loss: 0.0207 - val_mae: 0.1050\n",
            "Epoch 39/50\n",
            "10/10 - 0s - 7ms/step - loss: 0.0198 - mae: 0.1129 - val_loss: 0.0167 - val_mae: 0.0967\n",
            "Epoch 40/50\n",
            "10/10 - 0s - 13ms/step - loss: 0.0181 - mae: 0.1067 - val_loss: 0.0179 - val_mae: 0.0983\n",
            "Epoch 41/50\n",
            "10/10 - 0s - 7ms/step - loss: 0.0180 - mae: 0.1080 - val_loss: 0.0150 - val_mae: 0.0950\n",
            "Epoch 42/50\n",
            "10/10 - 0s - 12ms/step - loss: 0.0185 - mae: 0.1081 - val_loss: 0.0204 - val_mae: 0.1240\n",
            "Epoch 43/50\n",
            "10/10 - 0s - 5ms/step - loss: 0.0177 - mae: 0.1075 - val_loss: 0.0161 - val_mae: 0.0937\n",
            "Epoch 44/50\n",
            "10/10 - 0s - 7ms/step - loss: 0.0161 - mae: 0.1007 - val_loss: 0.0139 - val_mae: 0.0922\n",
            "Epoch 45/50\n",
            "10/10 - 0s - 12ms/step - loss: 0.0162 - mae: 0.1021 - val_loss: 0.0228 - val_mae: 0.1132\n",
            "Epoch 46/50\n",
            "10/10 - 0s - 7ms/step - loss: 0.0187 - mae: 0.1080 - val_loss: 0.0201 - val_mae: 0.1231\n",
            "Epoch 47/50\n",
            "10/10 - 0s - 5ms/step - loss: 0.0161 - mae: 0.1013 - val_loss: 0.0145 - val_mae: 0.0888\n",
            "Epoch 48/50\n",
            "10/10 - 0s - 6ms/step - loss: 0.0157 - mae: 0.1016 - val_loss: 0.0131 - val_mae: 0.0923\n",
            "Epoch 49/50\n",
            "10/10 - 0s - 5ms/step - loss: 0.0173 - mae: 0.1038 - val_loss: 0.0140 - val_mae: 0.0986\n",
            "Epoch 50/50\n",
            "10/10 - 0s - 5ms/step - loss: 0.0157 - mae: 0.1001 - val_loss: 0.0125 - val_mae: 0.0847\n"
          ]
        }
      ]
    },
    {
      "cell_type": "code",
      "source": [
        "model = LinearRegression()\n",
        "model.fit(X_train, y_train)"
      ],
      "metadata": {
        "colab": {
          "base_uri": "https://localhost:8080/",
          "height": 74
        },
        "id": "lczTMEqyv4pS",
        "outputId": "6086e913-e7be-41ab-e84f-fdafcf34c2f6"
      },
      "execution_count": 29,
      "outputs": [
        {
          "output_type": "execute_result",
          "data": {
            "text/plain": [
              "LinearRegression()"
            ],
            "text/html": [
              "<style>#sk-container-id-1 {color: black;}#sk-container-id-1 pre{padding: 0;}#sk-container-id-1 div.sk-toggleable {background-color: white;}#sk-container-id-1 label.sk-toggleable__label {cursor: pointer;display: block;width: 100%;margin-bottom: 0;padding: 0.3em;box-sizing: border-box;text-align: center;}#sk-container-id-1 label.sk-toggleable__label-arrow:before {content: \"▸\";float: left;margin-right: 0.25em;color: #696969;}#sk-container-id-1 label.sk-toggleable__label-arrow:hover:before {color: black;}#sk-container-id-1 div.sk-estimator:hover label.sk-toggleable__label-arrow:before {color: black;}#sk-container-id-1 div.sk-toggleable__content {max-height: 0;max-width: 0;overflow: hidden;text-align: left;background-color: #f0f8ff;}#sk-container-id-1 div.sk-toggleable__content pre {margin: 0.2em;color: black;border-radius: 0.25em;background-color: #f0f8ff;}#sk-container-id-1 input.sk-toggleable__control:checked~div.sk-toggleable__content {max-height: 200px;max-width: 100%;overflow: auto;}#sk-container-id-1 input.sk-toggleable__control:checked~label.sk-toggleable__label-arrow:before {content: \"▾\";}#sk-container-id-1 div.sk-estimator input.sk-toggleable__control:checked~label.sk-toggleable__label {background-color: #d4ebff;}#sk-container-id-1 div.sk-label input.sk-toggleable__control:checked~label.sk-toggleable__label {background-color: #d4ebff;}#sk-container-id-1 input.sk-hidden--visually {border: 0;clip: rect(1px 1px 1px 1px);clip: rect(1px, 1px, 1px, 1px);height: 1px;margin: -1px;overflow: hidden;padding: 0;position: absolute;width: 1px;}#sk-container-id-1 div.sk-estimator {font-family: monospace;background-color: #f0f8ff;border: 1px dotted black;border-radius: 0.25em;box-sizing: border-box;margin-bottom: 0.5em;}#sk-container-id-1 div.sk-estimator:hover {background-color: #d4ebff;}#sk-container-id-1 div.sk-parallel-item::after {content: \"\";width: 100%;border-bottom: 1px solid gray;flex-grow: 1;}#sk-container-id-1 div.sk-label:hover label.sk-toggleable__label {background-color: #d4ebff;}#sk-container-id-1 div.sk-serial::before {content: \"\";position: absolute;border-left: 1px solid gray;box-sizing: border-box;top: 0;bottom: 0;left: 50%;z-index: 0;}#sk-container-id-1 div.sk-serial {display: flex;flex-direction: column;align-items: center;background-color: white;padding-right: 0.2em;padding-left: 0.2em;position: relative;}#sk-container-id-1 div.sk-item {position: relative;z-index: 1;}#sk-container-id-1 div.sk-parallel {display: flex;align-items: stretch;justify-content: center;background-color: white;position: relative;}#sk-container-id-1 div.sk-item::before, #sk-container-id-1 div.sk-parallel-item::before {content: \"\";position: absolute;border-left: 1px solid gray;box-sizing: border-box;top: 0;bottom: 0;left: 50%;z-index: -1;}#sk-container-id-1 div.sk-parallel-item {display: flex;flex-direction: column;z-index: 1;position: relative;background-color: white;}#sk-container-id-1 div.sk-parallel-item:first-child::after {align-self: flex-end;width: 50%;}#sk-container-id-1 div.sk-parallel-item:last-child::after {align-self: flex-start;width: 50%;}#sk-container-id-1 div.sk-parallel-item:only-child::after {width: 0;}#sk-container-id-1 div.sk-dashed-wrapped {border: 1px dashed gray;margin: 0 0.4em 0.5em 0.4em;box-sizing: border-box;padding-bottom: 0.4em;background-color: white;}#sk-container-id-1 div.sk-label label {font-family: monospace;font-weight: bold;display: inline-block;line-height: 1.2em;}#sk-container-id-1 div.sk-label-container {text-align: center;}#sk-container-id-1 div.sk-container {/* jupyter's `normalize.less` sets `[hidden] { display: none; }` but bootstrap.min.css set `[hidden] { display: none !important; }` so we also need the `!important` here to be able to override the default hidden behavior on the sphinx rendered scikit-learn.org. See: https://github.com/scikit-learn/scikit-learn/issues/21755 */display: inline-block !important;position: relative;}#sk-container-id-1 div.sk-text-repr-fallback {display: none;}</style><div id=\"sk-container-id-1\" class=\"sk-top-container\"><div class=\"sk-text-repr-fallback\"><pre>LinearRegression()</pre><b>In a Jupyter environment, please rerun this cell to show the HTML representation or trust the notebook. <br />On GitHub, the HTML representation is unable to render, please try loading this page with nbviewer.org.</b></div><div class=\"sk-container\" hidden><div class=\"sk-item\"><div class=\"sk-estimator sk-toggleable\"><input class=\"sk-toggleable__control sk-hidden--visually\" id=\"sk-estimator-id-1\" type=\"checkbox\" checked><label for=\"sk-estimator-id-1\" class=\"sk-toggleable__label sk-toggleable__label-arrow\">LinearRegression</label><div class=\"sk-toggleable__content\"><pre>LinearRegression()</pre></div></div></div></div></div>"
            ]
          },
          "metadata": {},
          "execution_count": 29
        }
      ]
    },
    {
      "cell_type": "code",
      "source": [
        "y_pred = model.predict(X_test)"
      ],
      "metadata": {
        "id": "BvZmcpyGv9Rm"
      },
      "execution_count": 30,
      "outputs": []
    },
    {
      "cell_type": "code",
      "source": [
        "mse = mean_squared_error(y_test, y_pred)\n",
        "r2 = r2_score(y_test, y_pred)"
      ],
      "metadata": {
        "id": "-I3kGKzmwCDO"
      },
      "execution_count": 31,
      "outputs": []
    },
    {
      "cell_type": "code",
      "source": [
        "y_pred = model.predict(X_test)"
      ],
      "metadata": {
        "id": "CmJV7ZH9wHJM"
      },
      "execution_count": 32,
      "outputs": []
    },
    {
      "cell_type": "code",
      "source": [
        "mse = mean_squared_error(y_test, y_pred)\n",
        "r2 = r2_score(y_test, y_pred)\n",
        "\n",
        "print(\"\\nModel Evaluation:\")\n",
        "print(f\"Mean Squared Error: {mse:.4f}\")\n",
        "print(f\"R^2 Score: {r2:.4f}\")"
      ],
      "metadata": {
        "colab": {
          "base_uri": "https://localhost:8080/"
        },
        "id": "moYNobEswMRB",
        "outputId": "0d58a60a-92be-4bfd-ccc8-0f93787612e6"
      },
      "execution_count": 33,
      "outputs": [
        {
          "output_type": "stream",
          "name": "stdout",
          "text": [
            "\n",
            "Model Evaluation:\n",
            "Mean Squared Error: 0.0037\n",
            "R^2 Score: 0.8188\n"
          ]
        }
      ]
    },
    {
      "cell_type": "code",
      "source": [
        "print(\"\\nModel Coefficients:\")\n",
        "coefficients = pd.DataFrame(model.coef_, X.columns, columns=['Coefficient'])\n",
        "print(coefficients)"
      ],
      "metadata": {
        "colab": {
          "base_uri": "https://localhost:8080/"
        },
        "id": "hi2M54QMwP8n",
        "outputId": "52870d93-8d93-42ea-8445-1ae1944770f3"
      },
      "execution_count": 34,
      "outputs": [
        {
          "output_type": "stream",
          "name": "stdout",
          "text": [
            "\n",
            "Model Coefficients:\n",
            "                   Coefficient\n",
            "GRE Score             0.002434\n",
            "TOEFL Score           0.002996\n",
            "University Rating     0.002569\n",
            "SOP                   0.001814\n",
            "LOR                   0.017238\n",
            "CGPA                  0.112527\n",
            "Research              0.024027\n"
          ]
        }
      ]
    }
  ]
}